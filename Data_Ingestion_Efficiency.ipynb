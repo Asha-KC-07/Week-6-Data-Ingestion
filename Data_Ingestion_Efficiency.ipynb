{
  "nbformat": 4,
  "nbformat_minor": 0,
  "metadata": {
    "colab": {
      "provenance": []
    },
    "kernelspec": {
      "name": "python3",
      "display_name": "Python 3"
    },
    "language_info": {
      "name": "python"
    }
  },
  "cells": [
    {
      "source": [
        "# Task\n",
        "Find out the data ingestion efficiency of reading this file and give a summary of findings.\n",
        "\n",
        "data file used:\n",
        "\"us_congestion_2016_2022_sample_2m.csv\" - 737 MB"
      ],
      "cell_type": "markdown",
      "metadata": {
        "id": "Q8qwfamb6VIP"
      }
    },
    {
      "source": [
        "## Data loading - Pandas\n",
        "\n",
        "Load the \"us_congestion_2016_2022_sample_2m.csv\" file into a pandas DataFrame and measure the loading time.\n"
      ],
      "cell_type": "markdown",
      "metadata": {
        "id": "1VBVn5FU6VgH"
      }
    },
    {
      "source": [
        "import pandas as pd\n",
        "import time\n",
        "\n",
        "# Record the start time\n",
        "start_time = time.time()\n",
        "\n",
        "# Load the data using pandas\n",
        "try:\n",
        "    df_pandas = pd.read_csv('us_congestion_2016_2022_sample_2m.csv')\n",
        "except FileNotFoundError:\n",
        "    print(\"Error: 'us_congestion_2016_2022_sample_2m.csv' not found.\")\n",
        "    pandas_loading_time = -1 # Indicate an error\n",
        "except Exception as e:\n",
        "    print(f\"An unexpected error occurred: {e}\")\n",
        "    pandas_loading_time = -1 # Indicate an error\n",
        "else:\n",
        "    # Record the end time\n",
        "    end_time = time.time()\n",
        "\n",
        "    # Calculate the loading time\n",
        "    pandas_loading_time = end_time - start_time\n",
        "\n",
        "    # Print the shape of the DataFrame (optional)\n",
        "    print(f\"Pandas DataFrame shape: {df_pandas.shape}\")\n",
        "\n",
        "loading_times = {\"pandas\": pandas_loading_time}\n",
        "print(f\"Pandas Loading Time: {pandas_loading_time:.4f} seconds\")"
      ],
      "cell_type": "code",
      "metadata": {
        "colab": {
          "base_uri": "https://localhost:8080/"
        },
        "id": "whKdaJjX6W92",
        "outputId": "bd770bc6-40cd-408d-bfce-d1557165c46d"
      },
      "execution_count": 1,
      "outputs": [
        {
          "output_type": "stream",
          "name": "stdout",
          "text": [
            "Pandas DataFrame shape: (2000000, 30)\n",
            "Pandas Loading Time: 29.3114 seconds\n"
          ]
        }
      ]
    },
    {
      "source": [
        "## Data loading - Modin\n",
        "\n",
        "Load the \"us_congestion_2016_2022_sample_2m.csv\" file into a Modin DataFrame (using Ray as the backend) and measure the loading time.\n"
      ],
      "cell_type": "markdown",
      "metadata": {
        "id": "YErIYcyf6imG"
      }
    },
    {
      "source": [
        "import modin.pandas as pd\n",
        "import time\n",
        "import ray\n",
        "\n",
        "# Initialize Ray (if not already running)\n",
        "try:\n",
        "    ray.init()\n",
        "except RuntimeError:\n",
        "    print(\"Ray is already initialized.\")\n",
        "\n",
        "# Record the start time\n",
        "start_time = time.time()\n",
        "\n",
        "# Load the data using Modin\n",
        "try:\n",
        "    df_modin = pd.read_csv('us_congestion_2016_2022_sample_2m.csv')\n",
        "except FileNotFoundError:\n",
        "    print(\"Error: 'us_congestion_2016_2022_sample_2m.csv' not found.\")\n",
        "    modin_loading_time = -1\n",
        "except Exception as e:\n",
        "    print(f\"An unexpected error occurred: {e}\")\n",
        "    modin_loading_time = -1\n",
        "else:\n",
        "    # Record the end time\n",
        "    end_time = time.time()\n",
        "\n",
        "    # Calculate the loading time\n",
        "    modin_loading_time = end_time - start_time\n",
        "\n",
        "    # Print the shape of the DataFrame\n",
        "    print(f\"Modin DataFrame shape: {df_modin.shape}\")\n",
        "\n",
        "    print(f\"Modin Loading Time: {modin_loading_time:.4f} seconds\")\n",
        "    loading_times[\"modin\"] = modin_loading_time"
      ],
      "cell_type": "code",
      "metadata": {
        "colab": {
          "base_uri": "https://localhost:8080/",
          "height": 384
        },
        "id": "c3I-LhKQ6kJl",
        "outputId": "a07eb21c-bc1e-4898-bc55-d81742cad227"
      },
      "execution_count": 2,
      "outputs": [
        {
          "output_type": "error",
          "ename": "ModuleNotFoundError",
          "evalue": "No module named 'modin'",
          "traceback": [
            "\u001b[0;31m---------------------------------------------------------------------------\u001b[0m",
            "\u001b[0;31mModuleNotFoundError\u001b[0m                       Traceback (most recent call last)",
            "\u001b[0;32m<ipython-input-2-1d64b95a248d>\u001b[0m in \u001b[0;36m<cell line: 0>\u001b[0;34m()\u001b[0m\n\u001b[0;32m----> 1\u001b[0;31m \u001b[0;32mimport\u001b[0m \u001b[0mmodin\u001b[0m\u001b[0;34m.\u001b[0m\u001b[0mpandas\u001b[0m \u001b[0;32mas\u001b[0m \u001b[0mpd\u001b[0m\u001b[0;34m\u001b[0m\u001b[0;34m\u001b[0m\u001b[0m\n\u001b[0m\u001b[1;32m      2\u001b[0m \u001b[0;32mimport\u001b[0m \u001b[0mtime\u001b[0m\u001b[0;34m\u001b[0m\u001b[0;34m\u001b[0m\u001b[0m\n\u001b[1;32m      3\u001b[0m \u001b[0;32mimport\u001b[0m \u001b[0mray\u001b[0m\u001b[0;34m\u001b[0m\u001b[0;34m\u001b[0m\u001b[0m\n\u001b[1;32m      4\u001b[0m \u001b[0;34m\u001b[0m\u001b[0m\n\u001b[1;32m      5\u001b[0m \u001b[0;31m# Initialize Ray (if not already running)\u001b[0m\u001b[0;34m\u001b[0m\u001b[0;34m\u001b[0m\u001b[0m\n",
            "\u001b[0;31mModuleNotFoundError\u001b[0m: No module named 'modin'",
            "",
            "\u001b[0;31m---------------------------------------------------------------------------\u001b[0;32m\nNOTE: If your import is failing due to a missing package, you can\nmanually install dependencies using either !pip or !apt.\n\nTo view examples of installing some common dependencies, click the\n\"Open Examples\" button below.\n\u001b[0;31m---------------------------------------------------------------------------\u001b[0m\n"
          ],
          "errorDetails": {
            "actions": [
              {
                "action": "open_url",
                "actionText": "Open Examples",
                "url": "/notebooks/snippets/importing_libraries.ipynb"
              }
            ]
          }
        }
      ]
    },
    {
      "source": [
        "!pip install modin[ray]"
      ],
      "cell_type": "code",
      "metadata": {
        "colab": {
          "base_uri": "https://localhost:8080/"
        },
        "id": "BYzusEHl6mGf",
        "outputId": "5aa0d863-d572-4f57-ebda-ea577ccf56b1"
      },
      "execution_count": 3,
      "outputs": [
        {
          "output_type": "stream",
          "name": "stdout",
          "text": [
            "Collecting modin[ray]\n",
            "  Downloading modin-0.32.0-py3-none-any.whl.metadata (17 kB)\n",
            "Requirement already satisfied: pandas<2.3,>=2.2 in /usr/local/lib/python3.11/dist-packages (from modin[ray]) (2.2.2)\n",
            "Requirement already satisfied: packaging>=21.0 in /usr/local/lib/python3.11/dist-packages (from modin[ray]) (24.2)\n",
            "Requirement already satisfied: numpy>=1.22.4 in /usr/local/lib/python3.11/dist-packages (from modin[ray]) (2.0.2)\n",
            "Requirement already satisfied: fsspec>=2022.11.0 in /usr/local/lib/python3.11/dist-packages (from modin[ray]) (2025.3.2)\n",
            "Requirement already satisfied: psutil>=5.8.0 in /usr/local/lib/python3.11/dist-packages (from modin[ray]) (5.9.5)\n",
            "Collecting ray!=2.5.0,>=2.1.0 (from modin[ray])\n",
            "  Downloading ray-2.44.1-cp311-cp311-manylinux2014_x86_64.whl.metadata (19 kB)\n",
            "Requirement already satisfied: pyarrow>=10.0.1 in /usr/local/lib/python3.11/dist-packages (from modin[ray]) (18.1.0)\n",
            "Requirement already satisfied: python-dateutil>=2.8.2 in /usr/local/lib/python3.11/dist-packages (from pandas<2.3,>=2.2->modin[ray]) (2.8.2)\n",
            "Requirement already satisfied: pytz>=2020.1 in /usr/local/lib/python3.11/dist-packages (from pandas<2.3,>=2.2->modin[ray]) (2025.2)\n",
            "Requirement already satisfied: tzdata>=2022.7 in /usr/local/lib/python3.11/dist-packages (from pandas<2.3,>=2.2->modin[ray]) (2025.2)\n",
            "Requirement already satisfied: click>=7.0 in /usr/local/lib/python3.11/dist-packages (from ray!=2.5.0,>=2.1.0->modin[ray]) (8.1.8)\n",
            "Requirement already satisfied: filelock in /usr/local/lib/python3.11/dist-packages (from ray!=2.5.0,>=2.1.0->modin[ray]) (3.18.0)\n",
            "Requirement already satisfied: jsonschema in /usr/local/lib/python3.11/dist-packages (from ray!=2.5.0,>=2.1.0->modin[ray]) (4.23.0)\n",
            "Requirement already satisfied: msgpack<2.0.0,>=1.0.0 in /usr/local/lib/python3.11/dist-packages (from ray!=2.5.0,>=2.1.0->modin[ray]) (1.1.0)\n",
            "Requirement already satisfied: protobuf!=3.19.5,>=3.15.3 in /usr/local/lib/python3.11/dist-packages (from ray!=2.5.0,>=2.1.0->modin[ray]) (5.29.4)\n",
            "Requirement already satisfied: pyyaml in /usr/local/lib/python3.11/dist-packages (from ray!=2.5.0,>=2.1.0->modin[ray]) (6.0.2)\n",
            "Requirement already satisfied: aiosignal in /usr/local/lib/python3.11/dist-packages (from ray!=2.5.0,>=2.1.0->modin[ray]) (1.3.2)\n",
            "Requirement already satisfied: frozenlist in /usr/local/lib/python3.11/dist-packages (from ray!=2.5.0,>=2.1.0->modin[ray]) (1.5.0)\n",
            "Requirement already satisfied: requests in /usr/local/lib/python3.11/dist-packages (from ray!=2.5.0,>=2.1.0->modin[ray]) (2.32.3)\n",
            "Requirement already satisfied: six>=1.5 in /usr/local/lib/python3.11/dist-packages (from python-dateutil>=2.8.2->pandas<2.3,>=2.2->modin[ray]) (1.17.0)\n",
            "Requirement already satisfied: attrs>=22.2.0 in /usr/local/lib/python3.11/dist-packages (from jsonschema->ray!=2.5.0,>=2.1.0->modin[ray]) (25.3.0)\n",
            "Requirement already satisfied: jsonschema-specifications>=2023.03.6 in /usr/local/lib/python3.11/dist-packages (from jsonschema->ray!=2.5.0,>=2.1.0->modin[ray]) (2024.10.1)\n",
            "Requirement already satisfied: referencing>=0.28.4 in /usr/local/lib/python3.11/dist-packages (from jsonschema->ray!=2.5.0,>=2.1.0->modin[ray]) (0.36.2)\n",
            "Requirement already satisfied: rpds-py>=0.7.1 in /usr/local/lib/python3.11/dist-packages (from jsonschema->ray!=2.5.0,>=2.1.0->modin[ray]) (0.24.0)\n",
            "Requirement already satisfied: charset-normalizer<4,>=2 in /usr/local/lib/python3.11/dist-packages (from requests->ray!=2.5.0,>=2.1.0->modin[ray]) (3.4.1)\n",
            "Requirement already satisfied: idna<4,>=2.5 in /usr/local/lib/python3.11/dist-packages (from requests->ray!=2.5.0,>=2.1.0->modin[ray]) (3.10)\n",
            "Requirement already satisfied: urllib3<3,>=1.21.1 in /usr/local/lib/python3.11/dist-packages (from requests->ray!=2.5.0,>=2.1.0->modin[ray]) (2.3.0)\n",
            "Requirement already satisfied: certifi>=2017.4.17 in /usr/local/lib/python3.11/dist-packages (from requests->ray!=2.5.0,>=2.1.0->modin[ray]) (2025.1.31)\n",
            "Requirement already satisfied: typing-extensions>=4.4.0 in /usr/local/lib/python3.11/dist-packages (from referencing>=0.28.4->jsonschema->ray!=2.5.0,>=2.1.0->modin[ray]) (4.13.1)\n",
            "Downloading ray-2.44.1-cp311-cp311-manylinux2014_x86_64.whl (68.1 MB)\n",
            "\u001b[2K   \u001b[90m━━━━━━━━━━━━━━━━━━━━━━━━━━━━━━━━━━━━━━━━\u001b[0m \u001b[32m68.1/68.1 MB\u001b[0m \u001b[31m10.9 MB/s\u001b[0m eta \u001b[36m0:00:00\u001b[0m\n",
            "\u001b[?25hDownloading modin-0.32.0-py3-none-any.whl (1.1 MB)\n",
            "\u001b[2K   \u001b[90m━━━━━━━━━━━━━━━━━━━━━━━━━━━━━━━━━━━━━━━━\u001b[0m \u001b[32m1.1/1.1 MB\u001b[0m \u001b[31m55.5 MB/s\u001b[0m eta \u001b[36m0:00:00\u001b[0m\n",
            "\u001b[?25hInstalling collected packages: modin, ray\n",
            "Successfully installed modin-0.32.0 ray-2.44.1\n"
          ]
        }
      ]
    },
    {
      "source": [
        "import modin.pandas as pd\n",
        "import time\n",
        "import ray\n",
        "\n",
        "# Initialize Ray (if not already running)\n",
        "try:\n",
        "    ray.init()\n",
        "except RuntimeError:\n",
        "    print(\"Ray is already initialized.\")\n",
        "\n",
        "# Record the start time\n",
        "start_time = time.time()\n",
        "\n",
        "# Load the data using Modin\n",
        "try:\n",
        "    df_modin = pd.read_csv('us_congestion_2016_2022_sample_2m.csv')\n",
        "except FileNotFoundError:\n",
        "    print(\"Error: 'us_congestion_2016_2022_sample_2m.csv' not found.\")\n",
        "    modin_loading_time = -1\n",
        "except Exception as e:\n",
        "    print(f\"An unexpected error occurred: {e}\")\n",
        "    modin_loading_time = -1\n",
        "else:\n",
        "    # Record the end time\n",
        "    end_time = time.time()\n",
        "\n",
        "    # Calculate the loading time\n",
        "    modin_loading_time = end_time - start_time\n",
        "\n",
        "    # Print the shape of the DataFrame\n",
        "    print(f\"Modin DataFrame shape: {df_modin.shape}\")\n",
        "\n",
        "    print(f\"Modin Loading Time: {modin_loading_time:.4f} seconds\")\n",
        "    loading_times[\"modin\"] = modin_loading_time"
      ],
      "cell_type": "code",
      "metadata": {
        "colab": {
          "base_uri": "https://localhost:8080/"
        },
        "id": "bWalLrCv6rt9",
        "outputId": "8461c78e-41b7-46ae-bf73-bd11b6160f13"
      },
      "execution_count": 4,
      "outputs": [
        {
          "output_type": "stream",
          "name": "stderr",
          "text": [
            "2025-04-12 21:32:10,978\tINFO worker.py:1852 -- Started a local Ray instance.\n"
          ]
        },
        {
          "output_type": "stream",
          "name": "stdout",
          "text": [
            "Modin DataFrame shape: (2000000, 30)\n",
            "Modin Loading Time: 34.1174 seconds\n"
          ]
        }
      ]
    },
    {
      "source": [
        "## Data loading - Dask\n",
        "\n",
        "Load the \"us_congestion_2016_2022_sample_2m.csv\" file into a Dask DataFrame and measure the loading time.\n"
      ],
      "cell_type": "markdown",
      "metadata": {
        "id": "ZbG8Ot5j66AF"
      }
    },
    {
      "source": [
        "import dask.dataframe as dd\n",
        "import time\n",
        "\n",
        "# Record the start time\n",
        "start_time = time.time()\n",
        "\n",
        "# Load the data using Dask\n",
        "try:\n",
        "    df_dask = dd.read_csv('us_congestion_2016_2022_sample_2m.csv')\n",
        "except FileNotFoundError:\n",
        "    print(\"Error: 'us_congestion_2016_2022_sample_2m.csv' not found.\")\n",
        "    dask_loading_time = -1\n",
        "except Exception as e:\n",
        "    print(f\"An unexpected error occurred: {e}\")\n",
        "    dask_loading_time = -1\n",
        "else:\n",
        "    # Record the end time\n",
        "    end_time = time.time()\n",
        "\n",
        "    # Calculate the loading time\n",
        "    dask_loading_time = end_time - start_time\n",
        "\n",
        "    # Print the shape of the Dask DataFrame\n",
        "    print(f\"Dask DataFrame shape: {df_dask.shape}\")\n",
        "\n",
        "    # Print the loading time\n",
        "    print(f\"Dask Loading Time: {dask_loading_time:.4f} seconds\")\n",
        "\n",
        "    # Add the loading time to the loading_times dictionary\n",
        "    loading_times[\"dask\"] = dask_loading_time"
      ],
      "cell_type": "code",
      "metadata": {
        "colab": {
          "base_uri": "https://localhost:8080/"
        },
        "id": "5DvW8IlV67Fy",
        "outputId": "e1ae908a-1668-45c7-a565-240c88fdebc7"
      },
      "execution_count": 5,
      "outputs": [
        {
          "output_type": "stream",
          "name": "stdout",
          "text": [
            "Dask DataFrame shape: (<dask_expr.expr.Scalar: expr=ArrowStringConversion(frame=FromMapProjectable(ce62c67)).size() // 30, dtype=int64>, 30)\n",
            "Dask Loading Time: 0.0289 seconds\n"
          ]
        }
      ]
    },
    {
      "source": [
        "## Data analysis\n",
        "\n",
        "Compare the data loading times for pandas, Modin, and Dask.\n"
      ],
      "cell_type": "markdown",
      "metadata": {
        "id": "Nq7H9KYm7AYQ"
      }
    },
    {
      "source": [
        "# Analyze loading times and identify the fastest library\n",
        "fastest_library = None\n",
        "fastest_time = float('inf')\n",
        "\n",
        "print(\"Library Loading Times:\")\n",
        "print(\"----------------------\")\n",
        "for library, loading_time in loading_times.items():\n",
        "    print(f\"{library}: {loading_time:.4f} seconds\")\n",
        "    if loading_time != -1 and loading_time < fastest_time:\n",
        "        fastest_time = loading_time\n",
        "        fastest_library = library\n",
        "\n",
        "if fastest_library:\n",
        "    print(f\"\\nFastest loading library: {fastest_library} ({fastest_time:.4f} seconds)\")\n",
        "else:\n",
        "    print(\"\\nNo valid loading times found for comparison.\")"
      ],
      "cell_type": "code",
      "metadata": {
        "colab": {
          "base_uri": "https://localhost:8080/"
        },
        "id": "nv46fw937A3v",
        "outputId": "62990606-c315-4349-ad36-26fd022e0ea3"
      },
      "execution_count": 6,
      "outputs": [
        {
          "output_type": "stream",
          "name": "stdout",
          "text": [
            "Library Loading Times:\n",
            "----------------------\n",
            "pandas: 29.3114 seconds\n",
            "modin: 34.1174 seconds\n",
            "dask: 0.0289 seconds\n",
            "\n",
            "Fastest loading library: dask (0.0289 seconds)\n"
          ]
        }
      ]
    },
    {
      "source": [
        "## Summary:\n",
        "\n",
        "* **Data ingestion efficiency of reading the file using pandas, Modin, and Dask?**  Dask was the fastest, loading the file in approximately 0.0289 seconds. Pandas took about 29.3114 seconds, and Modin took around 34.1174 seconds.\n",
        "\n",
        "* **Dask's superior performance:** Dask loaded the 2 million-row CSV file significantly faster (0.0289 seconds) compared to pandas (29.3114 seconds) and Modin (34.1174 seconds).\n",
        "* **Delayed computation in Dask:** Dask's reported DataFrame shape indicates that the row count is a delayed computation, highlighting its lazy evaluation approach.  The actual row count is not computed until a computation is performed on the DataFrame.\n",
        "\n",
        "* **Prioritize Dask for large datasets:** For large CSV files like the one analyzed, Dask offers a substantial performance advantage in data loading, making it the preferred choice for initial data ingestion.\n",
        "* **Investigate Dask's compute time:** While Dask excels at loading data quickly, investigate the performance of subsequent computations on the Dask DataFrame compared to pandas or Modin.  The initial load time is just one part of the overall data analysis workflow.\n"
      ],
      "cell_type": "markdown",
      "metadata": {
        "id": "nVgllLbl7FtS"
      }
    },
    {
      "cell_type": "markdown",
      "source": [
        "# Task\n",
        "\n",
        "Perform basic validation on data columns on the same data file: For example: remove special character, white spaces from the column name and any other if relevant.\n",
        "\n",
        "# Files written:\n",
        "*   yamlutility.py - consists of functions to call to read the YAML config file and for other various column validations\n",
        "*   data_schema.yaml - YAML file"
      ],
      "metadata": {
        "id": "4i9obrrieAih"
      }
    },
    {
      "cell_type": "code",
      "source": [
        "%%writefile yamlutility.py\n",
        "import logging\n",
        "import os\n",
        "import subprocess\n",
        "import yaml\n",
        "import pandas as pd\n",
        "import datetime\n",
        "import gc\n",
        "import re\n",
        "\n",
        "\n",
        "################\n",
        "# File Reading #\n",
        "################\n",
        "\n",
        "def read_config_file(filepath):\n",
        "    with open(filepath, 'r') as stream:\n",
        "        try:\n",
        "            return yaml.safe_load(stream)\n",
        "        except yaml.YAMLError as exc:\n",
        "            logging.error(exc)\n",
        "\n",
        "\n",
        "def replacer(string, char):\n",
        "    pattern = char + '{2,}'\n",
        "    string = re.sub(pattern, char, string)\n",
        "    return string\n",
        "\n",
        "def col_header_val(df,table_config):\n",
        "    '''\n",
        "    replace whitespaces in the column\n",
        "    and standardized column names\n",
        "    '''\n",
        "    df.columns = df.columns.str.lower()\n",
        "    df.columns = df.columns.str.replace('[^\\w]','_',regex=True)\n",
        "    df.columns = list(map(lambda x: x.strip('_'), list(df.columns)))\n",
        "    df.columns = list(map(lambda x: replacer(x,'_'), list(df.columns)))\n",
        "    expected_col = list(map(lambda x: x.lower(),  table_config['columns']))\n",
        "    expected_col.sort()\n",
        "    df.columns =list(map(lambda x: x.lower(), list(df.columns)))\n",
        "    df = df.reindex(sorted(df.columns), axis=1)\n",
        "    if len(df.columns) == len(expected_col) and list(expected_col)  == list(df.columns):\n",
        "        print(\"column name and column length validation passed\")\n",
        "        return 1\n",
        "    else:\n",
        "        print(\"column name and column length validation failed\")\n",
        "        mismatched_columns_file = list(set(df.columns).difference(expected_col))\n",
        "        print(\"Following File columns are not in the YAML file\",mismatched_columns_file)\n",
        "        missing_YAML_file = list(set(expected_col).difference(df.columns))\n",
        "        print(\"Following YAML columns are not in the file uploaded\",missing_YAML_file)\n",
        "        logging.info(f'df columns: {df.columns}')\n",
        "        logging.info(f'expected columns: {expected_col}')\n",
        "        return 0"
      ],
      "metadata": {
        "colab": {
          "base_uri": "https://localhost:8080/"
        },
        "id": "wFo4Dm6k8f0H",
        "outputId": "40f8bbfc-4141-4b4f-e359-c7266df5d60a"
      },
      "execution_count": 7,
      "outputs": [
        {
          "output_type": "stream",
          "name": "stdout",
          "text": [
            "Writing yamlutility.py\n"
          ]
        }
      ]
    },
    {
      "source": [
        "%%writefile data_schema.yaml\n",
        "file_type: csv\n",
        "file_name: us_congestion_2016_2022_sample_2m\n",
        "read_separator: ','\n",
        "write_separator: ','\n",
        "columns:\n",
        "    - id\n",
        "    - time\n",
        "    - speed\n",
        "    - travel_time\n",
        "    - length\n",
        "    - ratio\n",
        "    - congestion_level\n",
        "    - geometry\n",
        "    - origin\n",
        "    - destination\n",
        "    - segment_id\n",
        "    - city_code\n",
        "    - road\n",
        "    - direction\n",
        "    - year\n",
        "    - month\n",
        "    - day\n",
        "    - hour\n",
        "    - minute\n",
        "    - dayofweek"
      ],
      "cell_type": "code",
      "metadata": {
        "colab": {
          "base_uri": "https://localhost:8080/"
        },
        "id": "BgX7Y_NP-IAF",
        "outputId": "70dcae70-3e14-43e4-ae5a-067287b06bc3"
      },
      "execution_count": 8,
      "outputs": [
        {
          "output_type": "stream",
          "name": "stdout",
          "text": [
            "Writing data_schema.yaml\n"
          ]
        }
      ]
    },
    {
      "cell_type": "code",
      "source": [
        "# Read config file\n",
        "import yamlutility as util\n",
        "config_data = util.read_config_file(\"data_schema.yaml\")"
      ],
      "metadata": {
        "id": "JV0frq_z-ZMq"
      },
      "execution_count": 10,
      "outputs": []
    },
    {
      "cell_type": "code",
      "source": [
        "config_data['read_separator']"
      ],
      "metadata": {
        "colab": {
          "base_uri": "https://localhost:8080/",
          "height": 35
        },
        "id": "t5HkicHL-tme",
        "outputId": "04161a49-58f1-4794-e5d3-688a74294887"
      },
      "execution_count": 15,
      "outputs": [
        {
          "output_type": "execute_result",
          "data": {
            "text/plain": [
              "','"
            ],
            "application/vnd.google.colaboratory.intrinsic+json": {
              "type": "string"
            }
          },
          "metadata": {},
          "execution_count": 15
        }
      ]
    },
    {
      "cell_type": "code",
      "source": [
        "# read the file using config file\n",
        "file_type = config_data['file_type']\n",
        "source_file = \"./\" + config_data['file_name'] + f'.{file_type}'\n",
        "#print(\"\",source_file)\n",
        "df = pd.read_csv(source_file, sep= config_data['read_separator'])\n",
        "df.head()"
      ],
      "metadata": {
        "colab": {
          "base_uri": "https://localhost:8080/",
          "height": 429
        },
        "id": "ibt3-UCx_SBr",
        "outputId": "43dec60c-066f-488d-8e8d-359057314b3f"
      },
      "execution_count": 18,
      "outputs": [
        {
          "output_type": "execute_result",
          "data": {
            "text/plain": [
              "           ID  Severity  Start_Lat   Start_Lng                      StartTime  \\\n",
              "0  C-14344128         2  39.191032 -120.819740  2016-12-20T19:19:00.000-05:00   \n",
              "1  C-32285069         0  41.736015  -87.721565  2018-11-16T17:18:00.000-05:00   \n",
              "2  C-14213642         0  32.519043  -93.741096  2021-02-18T20:32:00.000-05:00   \n",
              "3  C-29674072         0  40.730564  -74.001709  2020-11-13T08:06:00.000-05:00   \n",
              "4  C-24044478         1  33.758331 -118.238533  2017-08-24T09:54:00.000-04:00   \n",
              "\n",
              "                         EndTime  Distance(mi)  DelayFromTypicalTraffic(mins)  \\\n",
              "0  2016-12-20T19:33:47.000-05:00          1.40                           2.58   \n",
              "1  2018-11-16T18:08:28.000-05:00          0.73                           0.42   \n",
              "2  2021-02-18T21:21:32.000-05:00          1.80                           1.00   \n",
              "3  2020-11-13T08:48:22.000-05:00          1.42                           1.00   \n",
              "4  2017-08-24T11:13:19.000-04:00          2.60                           4.90   \n",
              "\n",
              "   DelayFromFreeFlowSpeed(mins) Congestion_Speed  ... Temperature(F)  \\\n",
              "0                          2.60         Moderate  ...           54.0   \n",
              "1                          1.00             Slow  ...           39.0   \n",
              "2                          2.00         Moderate  ...           30.0   \n",
              "3                          2.00             Slow  ...           48.0   \n",
              "4                          6.92             Slow  ...           66.9   \n",
              "\n",
              "  WindChill(F) Humidity(%) Pressure(in) Visibility(mi) WindDir WindSpeed(mph)  \\\n",
              "0          NaN        30.0        30.15           10.0   North            3.5   \n",
              "1         31.8        70.0        30.06           10.0    West           11.5   \n",
              "2         30.0        79.0        30.20           10.0     WNW            3.0   \n",
              "3         48.0        93.0        29.92            1.0     VAR            3.0   \n",
              "4          NaN        79.0        29.89            9.0    Calm            NaN   \n",
              "\n",
              "  Precipitation(in) Weather_Event Weather_Conditions  \n",
              "0               NaN           NaN              Clear  \n",
              "1               NaN           NaN           Overcast  \n",
              "2              0.00           NaN               Fair  \n",
              "3              0.04           NaN         Light Rain  \n",
              "4               NaN           NaN           Overcast  \n",
              "\n",
              "[5 rows x 30 columns]"
            ],
            "text/html": [
              "\n",
              "  <div id=\"df-5d320a87-8164-4888-8842-41a00648da33\" class=\"colab-df-container\">\n",
              "    <div>\n",
              "<style scoped>\n",
              "    .dataframe tbody tr th:only-of-type {\n",
              "        vertical-align: middle;\n",
              "    }\n",
              "\n",
              "    .dataframe tbody tr th {\n",
              "        vertical-align: top;\n",
              "    }\n",
              "\n",
              "    .dataframe thead th {\n",
              "        text-align: right;\n",
              "    }\n",
              "</style>\n",
              "<table border=\"1\" class=\"dataframe\">\n",
              "  <thead>\n",
              "    <tr style=\"text-align: right;\">\n",
              "      <th></th>\n",
              "      <th>ID</th>\n",
              "      <th>Severity</th>\n",
              "      <th>Start_Lat</th>\n",
              "      <th>Start_Lng</th>\n",
              "      <th>StartTime</th>\n",
              "      <th>EndTime</th>\n",
              "      <th>Distance(mi)</th>\n",
              "      <th>DelayFromTypicalTraffic(mins)</th>\n",
              "      <th>DelayFromFreeFlowSpeed(mins)</th>\n",
              "      <th>Congestion_Speed</th>\n",
              "      <th>...</th>\n",
              "      <th>Temperature(F)</th>\n",
              "      <th>WindChill(F)</th>\n",
              "      <th>Humidity(%)</th>\n",
              "      <th>Pressure(in)</th>\n",
              "      <th>Visibility(mi)</th>\n",
              "      <th>WindDir</th>\n",
              "      <th>WindSpeed(mph)</th>\n",
              "      <th>Precipitation(in)</th>\n",
              "      <th>Weather_Event</th>\n",
              "      <th>Weather_Conditions</th>\n",
              "    </tr>\n",
              "  </thead>\n",
              "  <tbody>\n",
              "    <tr>\n",
              "      <th>0</th>\n",
              "      <td>C-14344128</td>\n",
              "      <td>2</td>\n",
              "      <td>39.191032</td>\n",
              "      <td>-120.819740</td>\n",
              "      <td>2016-12-20T19:19:00.000-05:00</td>\n",
              "      <td>2016-12-20T19:33:47.000-05:00</td>\n",
              "      <td>1.40</td>\n",
              "      <td>2.58</td>\n",
              "      <td>2.60</td>\n",
              "      <td>Moderate</td>\n",
              "      <td>...</td>\n",
              "      <td>54.0</td>\n",
              "      <td>NaN</td>\n",
              "      <td>30.0</td>\n",
              "      <td>30.15</td>\n",
              "      <td>10.0</td>\n",
              "      <td>North</td>\n",
              "      <td>3.5</td>\n",
              "      <td>NaN</td>\n",
              "      <td>NaN</td>\n",
              "      <td>Clear</td>\n",
              "    </tr>\n",
              "    <tr>\n",
              "      <th>1</th>\n",
              "      <td>C-32285069</td>\n",
              "      <td>0</td>\n",
              "      <td>41.736015</td>\n",
              "      <td>-87.721565</td>\n",
              "      <td>2018-11-16T17:18:00.000-05:00</td>\n",
              "      <td>2018-11-16T18:08:28.000-05:00</td>\n",
              "      <td>0.73</td>\n",
              "      <td>0.42</td>\n",
              "      <td>1.00</td>\n",
              "      <td>Slow</td>\n",
              "      <td>...</td>\n",
              "      <td>39.0</td>\n",
              "      <td>31.8</td>\n",
              "      <td>70.0</td>\n",
              "      <td>30.06</td>\n",
              "      <td>10.0</td>\n",
              "      <td>West</td>\n",
              "      <td>11.5</td>\n",
              "      <td>NaN</td>\n",
              "      <td>NaN</td>\n",
              "      <td>Overcast</td>\n",
              "    </tr>\n",
              "    <tr>\n",
              "      <th>2</th>\n",
              "      <td>C-14213642</td>\n",
              "      <td>0</td>\n",
              "      <td>32.519043</td>\n",
              "      <td>-93.741096</td>\n",
              "      <td>2021-02-18T20:32:00.000-05:00</td>\n",
              "      <td>2021-02-18T21:21:32.000-05:00</td>\n",
              "      <td>1.80</td>\n",
              "      <td>1.00</td>\n",
              "      <td>2.00</td>\n",
              "      <td>Moderate</td>\n",
              "      <td>...</td>\n",
              "      <td>30.0</td>\n",
              "      <td>30.0</td>\n",
              "      <td>79.0</td>\n",
              "      <td>30.20</td>\n",
              "      <td>10.0</td>\n",
              "      <td>WNW</td>\n",
              "      <td>3.0</td>\n",
              "      <td>0.00</td>\n",
              "      <td>NaN</td>\n",
              "      <td>Fair</td>\n",
              "    </tr>\n",
              "    <tr>\n",
              "      <th>3</th>\n",
              "      <td>C-29674072</td>\n",
              "      <td>0</td>\n",
              "      <td>40.730564</td>\n",
              "      <td>-74.001709</td>\n",
              "      <td>2020-11-13T08:06:00.000-05:00</td>\n",
              "      <td>2020-11-13T08:48:22.000-05:00</td>\n",
              "      <td>1.42</td>\n",
              "      <td>1.00</td>\n",
              "      <td>2.00</td>\n",
              "      <td>Slow</td>\n",
              "      <td>...</td>\n",
              "      <td>48.0</td>\n",
              "      <td>48.0</td>\n",
              "      <td>93.0</td>\n",
              "      <td>29.92</td>\n",
              "      <td>1.0</td>\n",
              "      <td>VAR</td>\n",
              "      <td>3.0</td>\n",
              "      <td>0.04</td>\n",
              "      <td>NaN</td>\n",
              "      <td>Light Rain</td>\n",
              "    </tr>\n",
              "    <tr>\n",
              "      <th>4</th>\n",
              "      <td>C-24044478</td>\n",
              "      <td>1</td>\n",
              "      <td>33.758331</td>\n",
              "      <td>-118.238533</td>\n",
              "      <td>2017-08-24T09:54:00.000-04:00</td>\n",
              "      <td>2017-08-24T11:13:19.000-04:00</td>\n",
              "      <td>2.60</td>\n",
              "      <td>4.90</td>\n",
              "      <td>6.92</td>\n",
              "      <td>Slow</td>\n",
              "      <td>...</td>\n",
              "      <td>66.9</td>\n",
              "      <td>NaN</td>\n",
              "      <td>79.0</td>\n",
              "      <td>29.89</td>\n",
              "      <td>9.0</td>\n",
              "      <td>Calm</td>\n",
              "      <td>NaN</td>\n",
              "      <td>NaN</td>\n",
              "      <td>NaN</td>\n",
              "      <td>Overcast</td>\n",
              "    </tr>\n",
              "  </tbody>\n",
              "</table>\n",
              "<p>5 rows × 30 columns</p>\n",
              "</div>\n",
              "    <div class=\"colab-df-buttons\">\n",
              "\n",
              "  <div class=\"colab-df-container\">\n",
              "    <button class=\"colab-df-convert\" onclick=\"convertToInteractive('df-5d320a87-8164-4888-8842-41a00648da33')\"\n",
              "            title=\"Convert this dataframe to an interactive table.\"\n",
              "            style=\"display:none;\">\n",
              "\n",
              "  <svg xmlns=\"http://www.w3.org/2000/svg\" height=\"24px\" viewBox=\"0 -960 960 960\">\n",
              "    <path d=\"M120-120v-720h720v720H120Zm60-500h600v-160H180v160Zm220 220h160v-160H400v160Zm0 220h160v-160H400v160ZM180-400h160v-160H180v160Zm440 0h160v-160H620v160ZM180-180h160v-160H180v160Zm440 0h160v-160H620v160Z\"/>\n",
              "  </svg>\n",
              "    </button>\n",
              "\n",
              "  <style>\n",
              "    .colab-df-container {\n",
              "      display:flex;\n",
              "      gap: 12px;\n",
              "    }\n",
              "\n",
              "    .colab-df-convert {\n",
              "      background-color: #E8F0FE;\n",
              "      border: none;\n",
              "      border-radius: 50%;\n",
              "      cursor: pointer;\n",
              "      display: none;\n",
              "      fill: #1967D2;\n",
              "      height: 32px;\n",
              "      padding: 0 0 0 0;\n",
              "      width: 32px;\n",
              "    }\n",
              "\n",
              "    .colab-df-convert:hover {\n",
              "      background-color: #E2EBFA;\n",
              "      box-shadow: 0px 1px 2px rgba(60, 64, 67, 0.3), 0px 1px 3px 1px rgba(60, 64, 67, 0.15);\n",
              "      fill: #174EA6;\n",
              "    }\n",
              "\n",
              "    .colab-df-buttons div {\n",
              "      margin-bottom: 4px;\n",
              "    }\n",
              "\n",
              "    [theme=dark] .colab-df-convert {\n",
              "      background-color: #3B4455;\n",
              "      fill: #D2E3FC;\n",
              "    }\n",
              "\n",
              "    [theme=dark] .colab-df-convert:hover {\n",
              "      background-color: #434B5C;\n",
              "      box-shadow: 0px 1px 3px 1px rgba(0, 0, 0, 0.15);\n",
              "      filter: drop-shadow(0px 1px 2px rgba(0, 0, 0, 0.3));\n",
              "      fill: #FFFFFF;\n",
              "    }\n",
              "  </style>\n",
              "\n",
              "    <script>\n",
              "      const buttonEl =\n",
              "        document.querySelector('#df-5d320a87-8164-4888-8842-41a00648da33 button.colab-df-convert');\n",
              "      buttonEl.style.display =\n",
              "        google.colab.kernel.accessAllowed ? 'block' : 'none';\n",
              "\n",
              "      async function convertToInteractive(key) {\n",
              "        const element = document.querySelector('#df-5d320a87-8164-4888-8842-41a00648da33');\n",
              "        const dataTable =\n",
              "          await google.colab.kernel.invokeFunction('convertToInteractive',\n",
              "                                                    [key], {});\n",
              "        if (!dataTable) return;\n",
              "\n",
              "        const docLinkHtml = 'Like what you see? Visit the ' +\n",
              "          '<a target=\"_blank\" href=https://colab.research.google.com/notebooks/data_table.ipynb>data table notebook</a>'\n",
              "          + ' to learn more about interactive tables.';\n",
              "        element.innerHTML = '';\n",
              "        dataTable['output_type'] = 'display_data';\n",
              "        await google.colab.output.renderOutput(dataTable, element);\n",
              "        const docLink = document.createElement('div');\n",
              "        docLink.innerHTML = docLinkHtml;\n",
              "        element.appendChild(docLink);\n",
              "      }\n",
              "    </script>\n",
              "  </div>\n",
              "\n",
              "\n",
              "<div id=\"df-3c26b568-f774-45f7-b756-6f7c48d2b7c5\">\n",
              "  <button class=\"colab-df-quickchart\" onclick=\"quickchart('df-3c26b568-f774-45f7-b756-6f7c48d2b7c5')\"\n",
              "            title=\"Suggest charts\"\n",
              "            style=\"display:none;\">\n",
              "\n",
              "<svg xmlns=\"http://www.w3.org/2000/svg\" height=\"24px\"viewBox=\"0 0 24 24\"\n",
              "     width=\"24px\">\n",
              "    <g>\n",
              "        <path d=\"M19 3H5c-1.1 0-2 .9-2 2v14c0 1.1.9 2 2 2h14c1.1 0 2-.9 2-2V5c0-1.1-.9-2-2-2zM9 17H7v-7h2v7zm4 0h-2V7h2v10zm4 0h-2v-4h2v4z\"/>\n",
              "    </g>\n",
              "</svg>\n",
              "  </button>\n",
              "\n",
              "<style>\n",
              "  .colab-df-quickchart {\n",
              "      --bg-color: #E8F0FE;\n",
              "      --fill-color: #1967D2;\n",
              "      --hover-bg-color: #E2EBFA;\n",
              "      --hover-fill-color: #174EA6;\n",
              "      --disabled-fill-color: #AAA;\n",
              "      --disabled-bg-color: #DDD;\n",
              "  }\n",
              "\n",
              "  [theme=dark] .colab-df-quickchart {\n",
              "      --bg-color: #3B4455;\n",
              "      --fill-color: #D2E3FC;\n",
              "      --hover-bg-color: #434B5C;\n",
              "      --hover-fill-color: #FFFFFF;\n",
              "      --disabled-bg-color: #3B4455;\n",
              "      --disabled-fill-color: #666;\n",
              "  }\n",
              "\n",
              "  .colab-df-quickchart {\n",
              "    background-color: var(--bg-color);\n",
              "    border: none;\n",
              "    border-radius: 50%;\n",
              "    cursor: pointer;\n",
              "    display: none;\n",
              "    fill: var(--fill-color);\n",
              "    height: 32px;\n",
              "    padding: 0;\n",
              "    width: 32px;\n",
              "  }\n",
              "\n",
              "  .colab-df-quickchart:hover {\n",
              "    background-color: var(--hover-bg-color);\n",
              "    box-shadow: 0 1px 2px rgba(60, 64, 67, 0.3), 0 1px 3px 1px rgba(60, 64, 67, 0.15);\n",
              "    fill: var(--button-hover-fill-color);\n",
              "  }\n",
              "\n",
              "  .colab-df-quickchart-complete:disabled,\n",
              "  .colab-df-quickchart-complete:disabled:hover {\n",
              "    background-color: var(--disabled-bg-color);\n",
              "    fill: var(--disabled-fill-color);\n",
              "    box-shadow: none;\n",
              "  }\n",
              "\n",
              "  .colab-df-spinner {\n",
              "    border: 2px solid var(--fill-color);\n",
              "    border-color: transparent;\n",
              "    border-bottom-color: var(--fill-color);\n",
              "    animation:\n",
              "      spin 1s steps(1) infinite;\n",
              "  }\n",
              "\n",
              "  @keyframes spin {\n",
              "    0% {\n",
              "      border-color: transparent;\n",
              "      border-bottom-color: var(--fill-color);\n",
              "      border-left-color: var(--fill-color);\n",
              "    }\n",
              "    20% {\n",
              "      border-color: transparent;\n",
              "      border-left-color: var(--fill-color);\n",
              "      border-top-color: var(--fill-color);\n",
              "    }\n",
              "    30% {\n",
              "      border-color: transparent;\n",
              "      border-left-color: var(--fill-color);\n",
              "      border-top-color: var(--fill-color);\n",
              "      border-right-color: var(--fill-color);\n",
              "    }\n",
              "    40% {\n",
              "      border-color: transparent;\n",
              "      border-right-color: var(--fill-color);\n",
              "      border-top-color: var(--fill-color);\n",
              "    }\n",
              "    60% {\n",
              "      border-color: transparent;\n",
              "      border-right-color: var(--fill-color);\n",
              "    }\n",
              "    80% {\n",
              "      border-color: transparent;\n",
              "      border-right-color: var(--fill-color);\n",
              "      border-bottom-color: var(--fill-color);\n",
              "    }\n",
              "    90% {\n",
              "      border-color: transparent;\n",
              "      border-bottom-color: var(--fill-color);\n",
              "    }\n",
              "  }\n",
              "</style>\n",
              "\n",
              "  <script>\n",
              "    async function quickchart(key) {\n",
              "      const quickchartButtonEl =\n",
              "        document.querySelector('#' + key + ' button');\n",
              "      quickchartButtonEl.disabled = true;  // To prevent multiple clicks.\n",
              "      quickchartButtonEl.classList.add('colab-df-spinner');\n",
              "      try {\n",
              "        const charts = await google.colab.kernel.invokeFunction(\n",
              "            'suggestCharts', [key], {});\n",
              "      } catch (error) {\n",
              "        console.error('Error during call to suggestCharts:', error);\n",
              "      }\n",
              "      quickchartButtonEl.classList.remove('colab-df-spinner');\n",
              "      quickchartButtonEl.classList.add('colab-df-quickchart-complete');\n",
              "    }\n",
              "    (() => {\n",
              "      let quickchartButtonEl =\n",
              "        document.querySelector('#df-3c26b568-f774-45f7-b756-6f7c48d2b7c5 button');\n",
              "      quickchartButtonEl.style.display =\n",
              "        google.colab.kernel.accessAllowed ? 'block' : 'none';\n",
              "    })();\n",
              "  </script>\n",
              "</div>\n",
              "\n",
              "    </div>\n",
              "  </div>\n"
            ],
            "application/vnd.google.colaboratory.intrinsic+json": {
              "type": "dataframe",
              "variable_name": "df"
            }
          },
          "metadata": {},
          "execution_count": 18
        }
      ]
    },
    {
      "cell_type": "code",
      "source": [
        "#validate the header of the file\n",
        "util.col_header_val(df,config_data)"
      ],
      "metadata": {
        "colab": {
          "base_uri": "https://localhost:8080/"
        },
        "id": "FeoNLlSTAb7n",
        "outputId": "aba3b38d-0aec-4f63-8e12-cd3691215986"
      },
      "execution_count": 19,
      "outputs": [
        {
          "output_type": "stream",
          "name": "stdout",
          "text": [
            "column name and column length validation failed\n",
            "Following File columns are not in the YAML file ['weatherstation_airportcode', 'distance_mi', 'description', 'winddir', 'windspeed_mph', 'state', 'precipitation_in', 'start_lng', 'windchill_f', 'start_lat', 'localtimezone', 'humidity', 'temperature_f', 'visibility_mi', 'weather_event', 'starttime', 'weather_conditions', 'congestion_speed', 'county', 'delayfromtypicaltraffic_mins', 'street', 'city', 'zipcode', 'endtime', 'severity', 'weathertimestamp', 'pressure_in', 'delayfromfreeflowspeed_mins', 'country']\n",
            "Following YAML columns are not in the file uploaded ['travel_time', 'direction', 'speed', 'minute', 'hour', 'destination', 'segment_id', 'time', 'geometry', 'origin', 'city_code', 'length', 'congestion_level', 'month', 'dayofweek', 'year', 'day', 'road', 'ratio']\n"
          ]
        },
        {
          "output_type": "execute_result",
          "data": {
            "text/plain": [
              "0"
            ]
          },
          "metadata": {},
          "execution_count": 19
        }
      ]
    },
    {
      "cell_type": "code",
      "source": [
        "print(\"columns of files are:\" ,df.columns)\n",
        "print(\"columns of YAML are:\" ,config_data['columns'])"
      ],
      "metadata": {
        "colab": {
          "base_uri": "https://localhost:8080/"
        },
        "id": "u_nUgsAaBAz1",
        "outputId": "420dc4d4-7e83-4525-debf-a90f38b1cc0a"
      },
      "execution_count": 20,
      "outputs": [
        {
          "output_type": "stream",
          "name": "stdout",
          "text": [
            "columns of files are: Index(['id', 'severity', 'start_lat', 'start_lng', 'starttime', 'endtime',\n",
            "       'distance_mi', 'delayfromtypicaltraffic_mins',\n",
            "       'delayfromfreeflowspeed_mins', 'congestion_speed', 'description',\n",
            "       'street', 'city', 'county', 'state', 'country', 'zipcode',\n",
            "       'localtimezone', 'weatherstation_airportcode', 'weathertimestamp',\n",
            "       'temperature_f', 'windchill_f', 'humidity', 'pressure_in',\n",
            "       'visibility_mi', 'winddir', 'windspeed_mph', 'precipitation_in',\n",
            "       'weather_event', 'weather_conditions'],\n",
            "      dtype='object')\n",
            "columns of YAML are: ['id', 'time', 'speed', 'travel_time', 'length', 'ratio', 'congestion_level', 'geometry', 'origin', 'destination', 'segment_id', 'city_code', 'road', 'direction', 'year', 'month', 'day', 'hour', 'minute', 'dayofweek']\n"
          ]
        }
      ]
    },
    {
      "cell_type": "code",
      "source": [
        "if util.col_header_val(df,config_data)==0:\n",
        "    print(\"validation failed\")\n",
        "    # write code to reject the file\n",
        "else:\n",
        "    print(\"col validation passed\")\n",
        "    # write the code to perform further action\n",
        "    # in the pipleine"
      ],
      "metadata": {
        "colab": {
          "base_uri": "https://localhost:8080/"
        },
        "id": "rR6659Z4BTHQ",
        "outputId": "315bc214-4095-42bf-d7e1-c6d168a1930d"
      },
      "execution_count": 21,
      "outputs": [
        {
          "output_type": "stream",
          "name": "stdout",
          "text": [
            "column name and column length validation failed\n",
            "Following File columns are not in the YAML file ['weatherstation_airportcode', 'distance_mi', 'description', 'winddir', 'windspeed_mph', 'state', 'precipitation_in', 'start_lng', 'windchill_f', 'start_lat', 'localtimezone', 'humidity', 'temperature_f', 'visibility_mi', 'weather_event', 'starttime', 'weather_conditions', 'congestion_speed', 'county', 'delayfromtypicaltraffic_mins', 'street', 'city', 'zipcode', 'endtime', 'severity', 'weathertimestamp', 'pressure_in', 'delayfromfreeflowspeed_mins', 'country']\n",
            "Following YAML columns are not in the file uploaded ['travel_time', 'direction', 'speed', 'minute', 'hour', 'destination', 'segment_id', 'time', 'geometry', 'origin', 'city_code', 'length', 'congestion_level', 'month', 'dayofweek', 'year', 'day', 'road', 'ratio']\n",
            "validation failed\n"
          ]
        }
      ]
    },
    {
      "cell_type": "markdown",
      "source": [
        "# Task\n",
        "Write the file in pipe separated text file (|) in gz format.\n",
        "\n",
        "Output file: output.txt.gz"
      ],
      "metadata": {
        "id": "gqr5eF88g1IP"
      }
    },
    {
      "cell_type": "code",
      "source": [
        "import gzip\n",
        "from io import BytesIO\n",
        "\n",
        "def write_to_gzip(df, output_file):\n",
        "    \"\"\"\n",
        "    Writes a DataFrame to a pipe-separated text file in gz format.\n",
        "    \"\"\"\n",
        "    # Load the data using Dask\n",
        "    from dask import dataframe as dd\n",
        "    df = dd.read_csv('us_congestion_2016_2022_sample_2m.csv', delimiter=\",\", dtype={'Weather_Event': 'object'})\n",
        "\n",
        "   # Write the DataFrame to a temporary CSV file first using compute()\n",
        "    temp_file = \"temp.csv\"\n",
        "    df.to_csv(temp_file, sep='|', index=False, encoding='utf-8', single_file=True) # Write to a single file\n",
        "\n",
        "    # Then, compress the temp file to gzip\n",
        "    with open(temp_file, 'rb') as f_in, gzip.open(output_file, 'wb') as f_out:\n",
        "        f_out.writelines(f_in)\n",
        "\n",
        "    # Remove the temporary file to cleanup\n",
        "    import os\n",
        "    os.remove(temp_file)\n",
        "\n",
        "\n",
        "# Example usage:\n",
        "write_to_gzip(df, 'output.txt.gz')"
      ],
      "metadata": {
        "id": "hn2lWJuxDGSt"
      },
      "execution_count": 26,
      "outputs": []
    },
    {
      "cell_type": "markdown",
      "source": [
        "# Task\n",
        "Create a summary of the file:\n",
        "\n",
        "\n",
        "\n",
        "*   Total number of rows\n",
        "*   Total number of columns\n",
        "*   File size"
      ],
      "metadata": {
        "id": "eLleYp6ihKm7"
      }
    },
    {
      "source": [
        "import os\n",
        "\n",
        "def file_summary(file_path):\n",
        "    \"\"\"\n",
        "    Generates a summary of a file, including row count, column count, and file size.\n",
        "    \"\"\"\n",
        "    df = pd.read_csv(file_path, sep='|')  # Assume pipe separator for reading\n",
        "    num_rows = df.shape[0]\n",
        "    num_cols = df.shape[1]\n",
        "    file_size = os.path.getsize(file_path)\n",
        "\n",
        "    summary = {\n",
        "        \"Total rows\": num_rows,\n",
        "        \"Total columns\": num_cols,\n",
        "        \"File size (bytes)\": file_size\n",
        "    }\n",
        "\n",
        "    return summary\n",
        "\n",
        "# Example usage:\n",
        "summary = file_summary('output.txt.gz')\n",
        "print(summary)"
      ],
      "cell_type": "code",
      "metadata": {
        "colab": {
          "base_uri": "https://localhost:8080/"
        },
        "id": "CefA4fUNGZNx",
        "outputId": "3ace84c5-5382-472e-d0aa-0062dde88159"
      },
      "execution_count": 27,
      "outputs": [
        {
          "output_type": "stream",
          "name": "stdout",
          "text": [
            "{'Total rows': 2000000, 'Total columns': 30, 'File size (bytes)': 218272822}\n"
          ]
        }
      ]
    }
  ]
}